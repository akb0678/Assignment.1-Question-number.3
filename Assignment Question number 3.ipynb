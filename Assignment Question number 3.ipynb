{
 "cells": [
  {
   "cell_type": "code",
   "execution_count": 1,
   "id": "a26c4d02",
   "metadata": {},
   "outputs": [
    {
     "name": "stdout",
     "output_type": "stream",
     "text": [
      "Number of Even Numbers: 4\n",
      "Number of Odd Numbers: 5\n"
     ]
    }
   ],
   "source": [
    "#Write a Python program to count the number of even and odd numbers from a series of numbers.\n",
    "\n",
    "List= [1,2,3,4,5,6,7,8,9]\n",
    "even_number=0\n",
    "odd_number=0\n",
    "for num in List:\n",
    "    if(num % 2 == 0):\n",
    "        even_number += 1\n",
    "    else:\n",
    "        odd_number += 1\n",
    "print(\"Number of Even Numbers:\",even_number)\n",
    "print(\"Number of Odd Numbers:\",odd_number)\n"
   ]
  },
  {
   "cell_type": "code",
   "execution_count": null,
   "id": "4ecf63cf",
   "metadata": {},
   "outputs": [],
   "source": []
  }
 ],
 "metadata": {
  "kernelspec": {
   "display_name": "Python 3 (ipykernel)",
   "language": "python",
   "name": "python3"
  },
  "language_info": {
   "codemirror_mode": {
    "name": "ipython",
    "version": 3
   },
   "file_extension": ".py",
   "mimetype": "text/x-python",
   "name": "python",
   "nbconvert_exporter": "python",
   "pygments_lexer": "ipython3",
   "version": "3.9.12"
  }
 },
 "nbformat": 4,
 "nbformat_minor": 5
}
